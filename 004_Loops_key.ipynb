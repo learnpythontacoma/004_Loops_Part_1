{
 "cells": [
  {
   "cell_type": "markdown",
   "metadata": {},
   "source": [
    "<img src ='graphics/python_logo.png'>\n",
    "\n",
    "# Lesson 04_Loops\n",
    "\n",
    "In the last lesson we worked with Lists. \n",
    "\n",
    "We constructed lists.\n",
    "\n",
    "We modified lists.\n",
    "\n",
    "We printed out lists.\n",
    "\n",
    "We even made lists within a list. \n",
    "\n",
    "We learned that list elements occupy a position within that list, and to call a specific element within a list we tell python the position number (e.g., a[3] refers to the 4th element in list a). \n",
    "\n",
    "This type of coding is good if your list is small. But what do we do when we have a list of elements and we want to apply the same set of commands to each element individually. How do we LOOP through a list?\n",
    "\n",
    "## Looping through each element in a list\n",
    "\n",
    "Looping is a fundamental programming construct. It is through Loops that we will \n",
    "1. look at each element in a list or dictionary or a DataFrame (more on these last two items in later lessons)\n",
    "1. apply the same task to each element in a list\n",
    "1. make decisions on what to do with each list element\n",
    "\n",
    "Let's look at a simple example that may help to make this clear.\n",
    "\n",
    "### Looping Example\n",
    "\n",
    "We have a list of friends and we want to print out each friend's name individually with the additional string 'is my friend.' following each name. Here is the code to do that. "
   ]
  },
  {
   "cell_type": "code",
   "execution_count": 1,
   "metadata": {},
   "outputs": [
    {
     "name": "stdout",
     "output_type": "stream",
     "text": [
      "Bobby is my friend.\n",
      "Alki is my friend.\n",
      "Elena is my friend.\n",
      "Gracie is my friend.\n",
      "Paul is my friend.\n"
     ]
    }
   ],
   "source": [
    "friends = ['Bobby', 'Alki', 'Elena', 'Gracie', 'Paul']\n",
    "\n",
    "for friend in friends:\n",
    "    print(friend + ' is my friend.')"
   ]
  },
  {
   "cell_type": "markdown",
   "metadata": {},
   "source": [
    "Let's take a closer look at what the code is doing.\n",
    "\n",
    "In this case, we are using a FOR loop. A FOR loop pulls each element in a list individually, applies a task to that element, then moves to the next element in a list. \n",
    "\n",
    "The syntax for a FOR loop is:\n",
    "1. for\n",
    "1. followed by any name that we want python to associate with the individual elements of a list\n",
    "1. followed by in (after all, we have to tell python in which list the elements are located)\n",
    "1. followed by the variable name of the list\n",
    "1. followed finally by a colon :\n",
    "\n",
    "This simple line of code tells python to pull the first element in the list `friends`, and call that element `friend`. \n",
    "\n",
    "What we want done with each element is to print it and add the phrase 'is my friend.' To do that, we use the print command. In this case, we are telling python to print the single element that was pulled from `friends` and print it. The variable to refer to each item temporarily is `friend` in this case. We could have called the individual elements anything we would like. When we look at the next block of code, we see that the variable `friend` in the FOR line has been changed to `cheese_whiz`. When we run the code, however, we see that python executes this block in the same way as it did above. "
   ]
  },
  {
   "cell_type": "code",
   "execution_count": 2,
   "metadata": {
    "scrolled": false
   },
   "outputs": [
    {
     "name": "stdout",
     "output_type": "stream",
     "text": [
      "Bobby is my friend.\n",
      "Alki is my friend.\n",
      "Elena is my friend.\n",
      "Gracie is my friend.\n",
      "Paul is my friend.\n"
     ]
    }
   ],
   "source": [
    "friends = ['Bobby', 'Alki', 'Elena', 'Gracie', 'Paul']\n",
    "\n",
    "for cheese_whiz in friends:\n",
    "    print(cheese_whiz + ' is my friend.')"
   ]
  },
  {
   "cell_type": "markdown",
   "metadata": {},
   "source": [
    "Since the individual element variable (`friend` or `cheese_whiz` from our examples) is a string, we used the '+' convention in our print statement. \n",
    "\n",
    "## Exercise: Write our first FOR loop\n",
    "\n",
    "In the next block, write out a FOR loop which takes the individual element from our list (in this case they will be integers), and prints out the numeral followed by the statement 'is an integer.' I started the code by giving you a list under the variable a."
   ]
  },
  {
   "cell_type": "code",
   "execution_count": 5,
   "metadata": {},
   "outputs": [
    {
     "name": "stdout",
     "output_type": "stream",
     "text": [
      "42 is an integer.\n",
      "42 is an integer.\n",
      "5 is an integer.\n",
      "5 is an integer.\n",
      "6 is an integer.\n",
      "6 is an integer.\n",
      "21 is an integer.\n",
      "21 is an integer.\n"
     ]
    }
   ],
   "source": [
    "a = [42,5,6,21]\n",
    "\n",
    "\n",
    "for x in a:\n",
    "    print(str(x) + ' is an integer.')\n",
    "    print(x, 'is an integer.')"
   ]
  },
  {
   "cell_type": "markdown",
   "metadata": {},
   "source": [
    "# Did you notice ...?\n",
    "\n",
    "Did you notice that in our examples and our exercise there are indented lines. These indents are important in python. The items indented are 'in loop' and are telling python that what is indented needs to be run completely before you go to the next item in the list. \n",
    "\n",
    "In python, these loops can be nested several loops deep. Let's look at an example of what I am speaking about."
   ]
  },
  {
   "cell_type": "code",
   "execution_count": 6,
   "metadata": {},
   "outputs": [
    {
     "name": "stdout",
     "output_type": "stream",
     "text": [
      "Ben 1\n",
      "Ben 2\n",
      "Ben 3\n",
      "Ben 4\n",
      "Shaquine 1\n",
      "Shaquine 2\n",
      "Shaquine 3\n",
      "Shaquine 4\n",
      "TJ 1\n",
      "TJ 2\n",
      "TJ 3\n",
      "TJ 4\n",
      "Allie 1\n",
      "Allie 2\n",
      "Allie 3\n",
      "Allie 4\n"
     ]
    }
   ],
   "source": [
    "a = [1,2,3,4]\n",
    "b = ['Ben', 'Shaquine', 'TJ', 'Allie']\n",
    "\n",
    "for name in b:\n",
    "    for number in a:\n",
    "        print(name, number)"
   ]
  },
  {
   "cell_type": "markdown",
   "metadata": {},
   "source": [
    "`print` is nested inside of the `for number in a:` loop, which is nested inside of the `for name in b:` loop. \n",
    "\n",
    "This code in plain English is telling python\n",
    "1. Pick up the first element in list b, and call it 'name'\n",
    "1. Next pick up the first element in list a and call it 'number'\n",
    "1. Next, print 'name' and 'number'\n",
    "1. NOW, pick up the second number in list a, still calling it 'number' and print 'name' (which is the same) and 'number' (which is now new).\n",
    "1. Do this until you have exhausted the elements in list a, then go up to list b, pick up the next name, and run this same task over again. \n",
    "\n",
    "From the print out, we can see that this is exactly what python did. \n",
    "\n",
    "What if we do some slight tweaks to the code and add yet another `nested` `FOR` loop to our code? Look at the following block of code, try to determine what it will do, then run the code to see if you are correct."
   ]
  },
  {
   "cell_type": "code",
   "execution_count": 7,
   "metadata": {},
   "outputs": [
    {
     "name": "stdout",
     "output_type": "stream",
     "text": [
      "Ben 1 1\n",
      "Ben 1 2\n",
      "Ben 1 3\n",
      "Ben 1 4\n",
      "Ben 2 1\n",
      "Ben 2 2\n",
      "Ben 2 3\n",
      "Ben 2 4\n",
      "Ben 3 1\n",
      "Ben 3 2\n",
      "Ben 3 3\n",
      "Ben 3 4\n",
      "Ben 4 1\n",
      "Ben 4 2\n",
      "Ben 4 3\n",
      "Ben 4 4\n",
      "Shaquine 1 1\n",
      "Shaquine 1 2\n",
      "Shaquine 1 3\n",
      "Shaquine 1 4\n",
      "Shaquine 2 1\n",
      "Shaquine 2 2\n",
      "Shaquine 2 3\n",
      "Shaquine 2 4\n",
      "Shaquine 3 1\n",
      "Shaquine 3 2\n",
      "Shaquine 3 3\n",
      "Shaquine 3 4\n",
      "Shaquine 4 1\n",
      "Shaquine 4 2\n",
      "Shaquine 4 3\n",
      "Shaquine 4 4\n",
      "TJ 1 1\n",
      "TJ 1 2\n",
      "TJ 1 3\n",
      "TJ 1 4\n",
      "TJ 2 1\n",
      "TJ 2 2\n",
      "TJ 2 3\n",
      "TJ 2 4\n",
      "TJ 3 1\n",
      "TJ 3 2\n",
      "TJ 3 3\n",
      "TJ 3 4\n",
      "TJ 4 1\n",
      "TJ 4 2\n",
      "TJ 4 3\n",
      "TJ 4 4\n",
      "Allie 1 1\n",
      "Allie 1 2\n",
      "Allie 1 3\n",
      "Allie 1 4\n",
      "Allie 2 1\n",
      "Allie 2 2\n",
      "Allie 2 3\n",
      "Allie 2 4\n",
      "Allie 3 1\n",
      "Allie 3 2\n",
      "Allie 3 3\n",
      "Allie 3 4\n",
      "Allie 4 1\n",
      "Allie 4 2\n",
      "Allie 4 3\n",
      "Allie 4 4\n"
     ]
    }
   ],
   "source": [
    "a = [1,2,3,4]\n",
    "b = ['Ben', 'Shaquine', 'TJ', 'Allie']\n",
    "\n",
    "for name in b:\n",
    "    for first_number in a:\n",
    "        for second_number in a:\n",
    "            print(name, first_number, second_number)"
   ]
  },
  {
   "cell_type": "markdown",
   "metadata": {},
   "source": [
    "As a result of us using numbers and names as we did in our nested loops, we can - by reading each line - see how python ran through each loop. Does this make sense?\n",
    "\n",
    "\n",
    "Take a look at the next block of code. Notice that the last `print` command is NOT indented as in the previous example. It is considered to be 'outside the loop' and will not be run more than once. And it will only run that one time when all of the loops are completed."
   ]
  },
  {
   "cell_type": "code",
   "execution_count": 9,
   "metadata": {},
   "outputs": [
    {
     "name": "stdout",
     "output_type": "stream",
     "text": [
      "Ben 1 1\n",
      "Ben 1 2\n",
      "Ben 1 3\n",
      "Ben 2 1\n",
      "Ben 2 2\n",
      "Ben 2 3\n",
      "Ben 3 1\n",
      "Ben 3 2\n",
      "Ben 3 3\n",
      "All Done!\n",
      "Shaquine 1 1\n",
      "Shaquine 1 2\n",
      "Shaquine 1 3\n",
      "Shaquine 2 1\n",
      "Shaquine 2 2\n",
      "Shaquine 2 3\n",
      "Shaquine 3 1\n",
      "Shaquine 3 2\n",
      "Shaquine 3 3\n",
      "All Done!\n",
      "Allie 1 1\n",
      "Allie 1 2\n",
      "Allie 1 3\n",
      "Allie 2 1\n",
      "Allie 2 2\n",
      "Allie 2 3\n",
      "Allie 3 1\n",
      "Allie 3 2\n",
      "Allie 3 3\n",
      "All Done!\n"
     ]
    }
   ],
   "source": [
    "a = [1,2,3]\n",
    "b = ['Ben', 'Shaquine', 'Allie']\n",
    "\n",
    "for name in b:\n",
    "    for first_number in a:\n",
    "        for second_number in a:\n",
    "            print(name, first_number, second_number)\n",
    "\n",
    "print('All Done!')"
   ]
  },
  {
   "cell_type": "markdown",
   "metadata": {},
   "source": [
    "`For` loops are helpful for running through each item in a list. They make it easy, and the code is clean. Simply one line. But what if we want to exclude \"Ben\" from our print out without taking \"Ben\" out of our list?\n",
    "\n",
    "# Conditional Loops (or `if-elif-else` loops)\n",
    "\n",
    "Applying a condition (a decision) to our code is easy. This is the realm of the `if-elif-else` loop. `if-elif-else` loops ask python a question (\"IF the following condition exists\") and then tells it what to do when it encounters that condition (\"print out the variable\"). \n",
    "\n",
    "For example, using the same list we had above of the names of our friends and a set of numbers from 1-3, we want python to print (\"Cheez-Whiz\") every time it encounters the number 2. Kinda silly, I realize, but a fun example. \n",
    "\n",
    "Using the same code that we used directly above, we would want to add an `if` statement in the following way in plain English.\n",
    "\n",
    "1. Pick up the first element in list b and call it 'name'\n",
    "1. Pick up the first element in list a and call it 'number'\n",
    "1. Look at 'number', and if 'number' equals 2, print \"Cheez-Whiz\"\n",
    "1. If 'number' does not equal 2 (`else`), print the variables 'name' and 'number'\n",
    "1. Now go back to list b. pull the next element, and repeat this until you run out of items in list b. \n",
    "1. When you run out of items in list b, print \"All Done!'\n",
    "\n"
   ]
  },
  {
   "cell_type": "code",
   "execution_count": 10,
   "metadata": {},
   "outputs": [
    {
     "name": "stdout",
     "output_type": "stream",
     "text": [
      "1 Ben\n",
      "Cheez-Whiz\n",
      "3 Ben\n",
      "1 Shaquine\n",
      "Cheez-Whiz\n",
      "3 Shaquine\n",
      "1 Allie\n",
      "Cheez-Whiz\n",
      "3 Allie\n",
      "All Done!\n"
     ]
    }
   ],
   "source": [
    "a = [1,2,3]\n",
    "b = ['Ben', 'Shaquine', 'Allie']\n",
    "\n",
    "for name in b:\n",
    "    for number in a:\n",
    "        if number == 2:\n",
    "            print('Cheez-Whiz')\n",
    "        else:\n",
    "            print(number, name)\n",
    "\n",
    "print('All Done!')"
   ]
  },
  {
   "cell_type": "markdown",
   "metadata": {},
   "source": [
    "From the print out, we can see that every time python hit the number 2 in the list, it printed \"Cheez-Whiz\". But what if we have other conditions that we want to have python consider. For example, we all know that 'Allie''s nickname is \"Sassy Pants\". And in place of her name, we want python to use her nickname. This is where `elif` comes into play. \n",
    "\n",
    "`elif` is python's abbreviation for `else if`. `elif` works the same way as any `if` statement. We simply tell python what the condition is that we want it to consider, and we tell it what we want it to do if that condition is met.\n",
    "\n",
    "Therefore, to get python to change Allie's name to \"Sassy Pants\", we only need to tell python that when 'name' equals 'Allie', 'name' no longer equals \"Allie\", but now equals \"Sassy Pants\". \n",
    "\n",
    "By the way, this is \"Ms. Sassy Pants\"\n",
    "<img src ='graphics/sassy_pants.jpg' width= \"200px\">\n",
    "\n",
    "\n",
    "Let's look at the code that will allow us to do that. "
   ]
  },
  {
   "cell_type": "code",
   "execution_count": 13,
   "metadata": {
    "scrolled": true
   },
   "outputs": [
    {
     "name": "stdout",
     "output_type": "stream",
     "text": [
      "1 Ben\n",
      "Cheez-Whiz\n",
      "3 Ben\n",
      "1 Shaquine\n",
      "Cheez-Whiz\n",
      "3 Shaquine\n",
      "1 Sassy Pants\n",
      "Cheez-Whiz\n",
      "3 Sassy Pants\n",
      "All Done!\n"
     ]
    }
   ],
   "source": [
    "a = [1,2,3]\n",
    "b = ['Ben', 'Shaquine', 'Allie']\n",
    "\n",
    "for name in b:\n",
    "    for number in a:\n",
    "        if number == 2:\n",
    "            print('Cheez-Whiz')\n",
    "        elif name == \"Allie\":\n",
    "            print(number, \"Sassy Pants\")\n",
    "        else:\n",
    "            print(number, name)\n",
    "\n",
    "print('All Done!')"
   ]
  },
  {
   "cell_type": "markdown",
   "metadata": {},
   "source": [
    "# Exercise\n",
    "\n",
    "Before we go any further, let's stop and try our hands at coding `if-elif-else` statements. \n",
    "\n",
    "In the next block, we have given you a list of people. We want to match the people to their gender. 'Patty' is a female, 'Bobby' is a male, and 'Devin' is a female. Write out a script using `if-elif-else` which prints out the person's name followed by her or his gender. \n",
    "\n",
    "**Note: BE PREPARED TO SHARE YOUR CODE AND EXPLAIN IT!**"
   ]
  },
  {
   "cell_type": "code",
   "execution_count": 15,
   "metadata": {},
   "outputs": [
    {
     "name": "stdout",
     "output_type": "stream",
     "text": [
      "Patty Female\n",
      "Bobby Male\n",
      "Devin Female\n",
      "Jim Male\n"
     ]
    }
   ],
   "source": [
    "people = ['Patty', 'Bobby', 'Devin', 'Jim']\n",
    "\n",
    "for name in people:\n",
    "    if name == 'Bobby':\n",
    "        print(name, 'Male')\n",
    "    elif name == 'Jim':\n",
    "        print(name, 'Male')\n",
    "    else:\n",
    "        print (name, 'Female')\n"
   ]
  },
  {
   "cell_type": "markdown",
   "metadata": {},
   "source": [
    "# `and` & `or` Conditional Modifiers\n",
    "\n",
    "In our last example with Ms. Sassy Pants, we introduced two conditions into our loop. We did this using two separate `if` statements. This worked perfectly fine, but python allows us to do the same thing in one line using the `and` and the `or` modifiers. \n",
    "\n",
    "As you can imagine, each modifier adds conditions based upon their English word equivalent: and, or. In using the `and` modifier, we are telling python that when all of the conditions listed are met, do the following action. In using the `or` modifier, we are telling python that when any of the conditions listed are met, do the following action. \n",
    "\n",
    "The best way to understand these is by example. \n",
    "\n",
    "In the example below, pay attention to two things, \n",
    "1. The syntax of using the `and` modifier in an `if` statement.\n",
    "1. The conditions that we are telling python to meet.\n",
    "\n",
    "First, look over the code. Try to run through it in your head and predict what is going to happen. \n",
    "\n",
    "Next, run the code and look at the results. Did the results come out as you predicted?"
   ]
  },
  {
   "cell_type": "code",
   "execution_count": 16,
   "metadata": {},
   "outputs": [
    {
     "name": "stdout",
     "output_type": "stream",
     "text": [
      "1 Ben\n",
      "2 Ben\n",
      "3 Ben\n",
      "1 Shaquine\n",
      "Cheez-Whiz\n",
      "3 Shaquine\n",
      "1 Allie\n",
      "2 Allie\n",
      "3 Allie\n",
      "All Done!\n"
     ]
    }
   ],
   "source": [
    "a = [1,2,3]\n",
    "b = ['Ben', 'Shaquine', 'Allie']\n",
    "\n",
    "for name in b:\n",
    "    for number in a:\n",
    "        if number == 2 and name == 'Shaquine':\n",
    "            print('Cheez-Whiz')\n",
    "        else:\n",
    "            print(number, name)\n",
    "\n",
    "print('All Done!')"
   ]
  },
  {
   "cell_type": "markdown",
   "metadata": {},
   "source": [
    "In the next block of code, we are going to change only the `and` conditional modifier to `or`. \n",
    "\n",
    "How does this small change affect our outcome?"
   ]
  },
  {
   "cell_type": "code",
   "execution_count": 19,
   "metadata": {},
   "outputs": [
    {
     "name": "stdout",
     "output_type": "stream",
     "text": [
      "1 Ben\n",
      "Cheez-Whiz\n",
      "3 Ben\n",
      "1 Shaquine\n",
      "Cheez-Whiz\n",
      "3 Shaquine\n",
      "Cheez-Whiz\n",
      "Cheez-Whiz\n",
      "Cheez-Whiz\n",
      "All Done!\n"
     ]
    }
   ],
   "source": [
    "a = [1,2,3]\n",
    "b = ['Ben', 'Shaquine', 'Allie']\n",
    "\n",
    "for name in b:\n",
    "    for number in a:\n",
    "        if name == 'Allie' or number == 2:\n",
    "            print('Cheez-Whiz')\n",
    "        else:\n",
    "            print(number, name)\n",
    "\n",
    "print('All Done!')"
   ]
  },
  {
   "cell_type": "markdown",
   "metadata": {},
   "source": [
    "## Audience Participation/Discussion Question\n",
    "\n",
    "What happened and why? "
   ]
  },
  {
   "cell_type": "markdown",
   "metadata": {},
   "source": [
    "---\n"
   ]
  },
  {
   "cell_type": "markdown",
   "metadata": {},
   "source": [
    "# Practice Exercises\n",
    "\n",
    "We have covered a lot in a very short period of time. Let's try our hand as some exercises using `For` loops and `if-elif-else` statements.\n",
    "\n",
    "In the next block, given the lists, write a script that prints out each person's name, followed by the numbers in the second list in the order of each list. The output would be a column with the items, \"Ben 21, Ben 36, Ben 50, Shaquine 21, ...\""
   ]
  },
  {
   "cell_type": "code",
   "execution_count": 20,
   "metadata": {},
   "outputs": [
    {
     "name": "stdout",
     "output_type": "stream",
     "text": [
      "Ben 21\n",
      "Ben 36\n",
      "Ben 50\n",
      "Shaquine 21\n",
      "Shaquine 36\n",
      "Shaquine 50\n",
      "Allie 21\n",
      "Allie 36\n",
      "Allie 50\n"
     ]
    }
   ],
   "source": [
    "a = [21,36,50]\n",
    "b = ['Ben', 'Shaquine', 'Allie']\n",
    "\n",
    "for name in b:\n",
    "    for number in a:\n",
    "        print(name, number)\n",
    "        "
   ]
  },
  {
   "cell_type": "markdown",
   "metadata": {},
   "source": [
    "Great Work! \n",
    "\n",
    "But now we do not want the print out in a column, we want it in a list with the list printed out (do you remember how to append things to a list? We talked about it in the last meet-up, and you will need to pull that information forward now.)\n",
    "\n",
    "In the next block, write a script that does the same as the previous example, but adds each entry to a list, then prints out the list. "
   ]
  },
  {
   "cell_type": "code",
   "execution_count": 22,
   "metadata": {},
   "outputs": [
    {
     "name": "stdout",
     "output_type": "stream",
     "text": [
      "['Ben 21', 'Ben 36', 'Ben 50']\n",
      "['Shaquine 21', 'Shaquine 36', 'Shaquine 50']\n",
      "['Allie 21', 'Allie 36', 'Allie 50']\n"
     ]
    }
   ],
   "source": [
    "a = [21,36,50]\n",
    "b = ['Ben', 'Shaquine', 'Allie']\n",
    "\n",
    "\n",
    "for name in b:\n",
    "    my_list = []\n",
    "    for number in a:\n",
    "        y = (name + ' ' + str(number))\n",
    "        my_list.append(y)\n",
    "    print(my_list)"
   ]
  },
  {
   "cell_type": "markdown",
   "metadata": {},
   "source": [
    "Now let's add a bit more to the problem. \n",
    "\n",
    "In the next block you have a list of items and a list of prices. Apples cost .25, Tablets cost 2.50, and Bananas cost .75. As you look at the two lists, however, you will see that the prices and the items are not in the right order to match with each other. However, you do know that every time you get the prices from the store manager, she puts them in the order of Bananas, Apples, and Tablets\n",
    "\n",
    "Write a script that prints out the correct price next to each item. The print out should be a list. AND write your script so that when the prices change above (correctly assuming that the price of bananas will always be in the first postion in the list, the price of apples will always be in the second place, and the price of tablets of paper will always be in the third), you will not have to rewrite your code. \n",
    "\n",
    "**Hint:** You have multiple conditions to sort through, and you will need to pull forward skills from the lesson on lists. \n",
    "\n",
    "**Disclaimer:** Yes, we admit that there are easier ways to do this work which you will learn in the future, but for now this exercises your knowledge of today's work. Besides, there may be multiple times in your data and programming careers where this type of problem exists."
   ]
  },
  {
   "cell_type": "code",
   "execution_count": 24,
   "metadata": {},
   "outputs": [
    {
     "name": "stdout",
     "output_type": "stream",
     "text": [
      "['Tablet 3.5', 'Bananas 1.5', 'Apples 0.05']\n"
     ]
    }
   ],
   "source": [
    "prices = [1.50, .05, 3.50]\n",
    "items = ['Tablet', 'Bananas', 'Apples']\n",
    "price_listing = []\n",
    "\n",
    "for item in items:\n",
    "    \n",
    "    if item == 'Tablet':\n",
    "        price = prices[2]\n",
    "        y = (item + \" \" + str(price))\n",
    "        price_listing.append(y)\n",
    "    elif item == 'Bananas':\n",
    "        price = prices[0]\n",
    "        y = (item + ' ' + str(price))\n",
    "        price_listing.append(y)\n",
    "    elif item == 'Apples':\n",
    "        price = prices[1]\n",
    "        y = (item + ' ' + str(price))\n",
    "        price_listing.append(y)\n",
    "        \n",
    "print(price_listing)"
   ]
  },
  {
   "cell_type": "code",
   "execution_count": null,
   "metadata": {},
   "outputs": [],
   "source": []
  },
  {
   "cell_type": "code",
   "execution_count": null,
   "metadata": {},
   "outputs": [],
   "source": []
  },
  {
   "cell_type": "code",
   "execution_count": null,
   "metadata": {},
   "outputs": [],
   "source": []
  },
  {
   "cell_type": "code",
   "execution_count": null,
   "metadata": {},
   "outputs": [],
   "source": []
  }
 ],
 "metadata": {
  "kernelspec": {
   "display_name": "Python 3",
   "language": "python",
   "name": "python3"
  },
  "language_info": {
   "codemirror_mode": {
    "name": "ipython",
    "version": 3
   },
   "file_extension": ".py",
   "mimetype": "text/x-python",
   "name": "python",
   "nbconvert_exporter": "python",
   "pygments_lexer": "ipython3",
   "version": "3.7.3"
  },
  "toc": {
   "base_numbering": 1,
   "nav_menu": {},
   "number_sections": true,
   "sideBar": true,
   "skip_h1_title": false,
   "title_cell": "Table of Contents",
   "title_sidebar": "Contents",
   "toc_cell": false,
   "toc_position": {},
   "toc_section_display": true,
   "toc_window_display": true
  },
  "varInspector": {
   "cols": {
    "lenName": 16,
    "lenType": 16,
    "lenVar": 40
   },
   "kernels_config": {
    "python": {
     "delete_cmd_postfix": "",
     "delete_cmd_prefix": "del ",
     "library": "var_list.py",
     "varRefreshCmd": "print(var_dic_list())"
    },
    "r": {
     "delete_cmd_postfix": ") ",
     "delete_cmd_prefix": "rm(",
     "library": "var_list.r",
     "varRefreshCmd": "cat(var_dic_list()) "
    }
   },
   "types_to_exclude": [
    "module",
    "function",
    "builtin_function_or_method",
    "instance",
    "_Feature"
   ],
   "window_display": false
  }
 },
 "nbformat": 4,
 "nbformat_minor": 2
}
