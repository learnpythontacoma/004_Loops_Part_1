{
 "cells": [
  {
   "cell_type": "markdown",
   "metadata": {},
   "source": [
    "<img src ='graphics/python_logo.png'>\n",
    "\n",
    "# Lesson 004 Homework - Loops\n",
    "\n",
    "During our meet-up on loops (part 1), we covered a lot of ground. \n",
    "\n",
    "We discussed the basics of loops.\n",
    "\n",
    "We looped through elements in a list using `For` loops.\n",
    "\n",
    "We talked about nested loops.\n",
    "\n",
    "We worked with some basic conditional `if-elif-else` loops.\n",
    "\n",
    "We wrote scripts using the conditional modifiers `and` & `or`.\n",
    "\n",
    "And we combined these aspects of loops together to work through lists at various levels of complexity.  \n",
    "\n",
    "In this homework, we want to further practice these skills. These are all simply the basics of loops and in order for us to build further skills, we need to have a firm foundation. These homework exercises are going to strengthen those skills. \n",
    "\n",
    "\n",
    "# Some Introductions\n",
    "\n",
    "Unlike our first homework practice sheets which were relatively straight forward and easy, we are now beginning to get into some more complex aspects about python. Complex in the aspect of us beginning to need some occassional outside help for us to draw upon to answer questions.\n",
    "\n",
    "There are a lot of resources available on the Internet for coding python. And just finding good resources can be a chore in itself. So to help you with that, we want to introduce you to these websites and resources so you can bookmark them in your browser and quickly draw upon them. \n",
    "\n",
    "## StackOverflow.com\n",
    "\n",
    "https://stackoverflow.com/ - Stackoverflow.com (a US company with offices here in Seattle) is going to be your first go-to place for finding answers to your python questions. Put any question about python into Google, and the chances are better than good that Google will return a StackOverflow url first. This is also a place where you can post your questions (once you are registered with the site) and others will post answers to those questions. While you will want to bookmark this site initially, because of its popularity, the wealth of information on the site, and the fact that Google will generally return a stackoverflow answer first, you will soon have its URL memorized. (trade secret: I don't know of any coder who does not have one screen open in the IDE and the other on StackOverflow when (s)he are coding.)\n",
    "\n",
    "## Chris Albon\n",
    "\n",
    "https://chrisalbon.com/ - Chris is a data scientist and author of several books on Machine Learning and Python. He has assembled a plethora of original material on just about every aspect of data science and python on his website. The articles are focused, short, and full of examples to make it easy to understand python and data science. Book mark this site. This bookmark sits in the center of my browser bookmarks bar and it is my go-to for reminding me of learned things that are forgotten as well as new things around data science and python. \n",
    "\n",
    "## Data School and Kevin Markham\n",
    "\n",
    "https://www.youtube.com/channel/UCnVzApLJE2ljPZSeQylSEyg - If you learn better by video, then Kevin Markham [https://www.linkedin.com/in/justmarkham/] and his YouTube Channel \"Data School\" is a bookmark that you will use A LOT. Kevin has put together an amazing portfolio of YouTube videos on Python and data science which are worth every minute of watching. This is a link you will definitely click on regularly. The really fun part of Kevin is that in spite of having a large library of video tutorials, he continues to produce more. If you follow him on LinkedIn (link given already), he posts daily snippet lessons on Python that are wonderful. \n",
    "\n",
    "\n",
    "# Exercises\n",
    "\n",
    "Having said all of that, let's do some practicing on the first part of loops and the things we have learned so far. \n",
    "\n",
    "\n",
    "## Exercise 1\n",
    "In the next block, given a list of 'friends', write a script that will print out each person's name from the list followed by the words \"is my friend.\" \n"
   ]
  },
  {
   "cell_type": "code",
   "execution_count": null,
   "metadata": {},
   "outputs": [],
   "source": [
    "friends = ['Bobby', 'Alki', 'Elena', 'Gracie', 'Paul']\n",
    "\n"
   ]
  },
  {
   "cell_type": "markdown",
   "metadata": {},
   "source": [
    "## Exercise 2\n",
    "\n",
    "In the next block, write a script that prints out a table of three lists with a space between each line. It will look like this:\n",
    "\n",
    "[1,2,3]\n",
    "\n",
    "[4,5,6]\n",
    "\n",
    "[7,8,9]"
   ]
  },
  {
   "cell_type": "code",
   "execution_count": null,
   "metadata": {},
   "outputs": [],
   "source": [
    "a = [1,2,3]\n"
   ]
  },
  {
   "cell_type": "markdown",
   "metadata": {},
   "source": [
    "## Exercise 3\n",
    "\n",
    "In the next block, we have provided you with a random number generator for `a`. It will generate a number from 1-5. Write a script that will \n",
    "1. determine if a equals 2\n",
    "1. if a does equal 2, then it prints \"Match!\"\n",
    "1. if a does not equal 2, then it prints the difference between a and the number 2\n",
    "\n",
    "**Note:** The answer must be a positive number and it must be the difference between 2 and the secret random number. \n",
    "\n",
    "*Hint:* Nested loops"
   ]
  },
  {
   "cell_type": "code",
   "execution_count": null,
   "metadata": {},
   "outputs": [],
   "source": [
    "import random\n",
    "a = (random.randrange(1,5))\n",
    "\n"
   ]
  },
  {
   "cell_type": "markdown",
   "metadata": {},
   "source": [
    "## Exercise 4\n",
    "\n",
    "In the next block of code, we have provided you the first input line. When you run this line, it will ask you for input (in this case, \"Amount of time exercising this week\"), and it will assign that input as a string to the variable `exercise_time`. \n",
    "\n",
    "Write a script that \n",
    "1. checks if your exercise time is equal to or more than 210. \n",
    "1. If it is equal to or more than 210, print a message \"Good job, kiddo.\" \n",
    "1. If your exercise time is equal to or more than 60 but less than 210, print a message \"You can do better than that.\" \n",
    "1. And if your exercise time is less than 60, print a message \"Those who don't exercise will grow old and fat.\"."
   ]
  },
  {
   "cell_type": "code",
   "execution_count": null,
   "metadata": {},
   "outputs": [],
   "source": [
    "exercise_time = input(\"Amount of time exercising this week:\")\n"
   ]
  },
  {
   "cell_type": "code",
   "execution_count": null,
   "metadata": {},
   "outputs": [],
   "source": []
  }
 ],
 "metadata": {
  "kernelspec": {
   "display_name": "Python 3",
   "language": "python",
   "name": "python3"
  },
  "language_info": {
   "codemirror_mode": {
    "name": "ipython",
    "version": 3
   },
   "file_extension": ".py",
   "mimetype": "text/x-python",
   "name": "python",
   "nbconvert_exporter": "python",
   "pygments_lexer": "ipython3",
   "version": "3.7.3"
  },
  "toc": {
   "base_numbering": 1,
   "nav_menu": {},
   "number_sections": true,
   "sideBar": true,
   "skip_h1_title": false,
   "title_cell": "Table of Contents",
   "title_sidebar": "Contents",
   "toc_cell": false,
   "toc_position": {},
   "toc_section_display": true,
   "toc_window_display": false
  },
  "varInspector": {
   "cols": {
    "lenName": 16,
    "lenType": 16,
    "lenVar": 40
   },
   "kernels_config": {
    "python": {
     "delete_cmd_postfix": "",
     "delete_cmd_prefix": "del ",
     "library": "var_list.py",
     "varRefreshCmd": "print(var_dic_list())"
    },
    "r": {
     "delete_cmd_postfix": ") ",
     "delete_cmd_prefix": "rm(",
     "library": "var_list.r",
     "varRefreshCmd": "cat(var_dic_list()) "
    }
   },
   "types_to_exclude": [
    "module",
    "function",
    "builtin_function_or_method",
    "instance",
    "_Feature"
   ],
   "window_display": false
  }
 },
 "nbformat": 4,
 "nbformat_minor": 2
}
